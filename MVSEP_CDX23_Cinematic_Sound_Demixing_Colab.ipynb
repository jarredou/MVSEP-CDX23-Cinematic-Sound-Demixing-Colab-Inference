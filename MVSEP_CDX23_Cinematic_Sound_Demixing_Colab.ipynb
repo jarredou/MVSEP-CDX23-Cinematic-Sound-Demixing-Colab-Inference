{
  "nbformat": 4,
  "nbformat_minor": 0,
  "metadata": {
    "colab": {
      "provenance": [],
      "gpuType": "T4"
    },
    "kernelspec": {
      "name": "python3",
      "display_name": "Python 3"
    },
    "language_info": {
      "name": "python"
    },
    "accelerator": "GPU"
  },
  "cells": [
    {
      "cell_type": "code",
      "execution_count": null,
      "metadata": {
        "cellView": "form",
        "id": "o7aCreSkIus6"
      },
      "outputs": [],
      "source": [
        "#@markdown # Install\n",
        "import base64\n",
        "\n",
        "%cd /content\n",
        "!git clone https://github.com/ZFTurbo/MVSEP-CDX23-Cinematic-Sound-Demixing\n",
        "\n",
        "print('Installing the dependencies... This will take few minutes')\n",
        "!pip install -r 'MVSEP-CDX23-Cinematic-Sound-Demixing/requirements.txt' &> /dev/null\n",
        "\n",
        "print('Downloading the models... This will take few minutes')\n",
        "!mkdir 'MVSEP-CDX23-Cinematic-Sound-Demixing/models'\n",
        "\n",
        "print('Installation is done !')"
      ]
    },
    {
      "cell_type": "code",
      "source": [
        "#@markdown #Gdrive connection\n",
        "from google.colab import drive\n",
        "drive.mount('/content/drive')"
      ],
      "metadata": {
        "colab": {
          "base_uri": "https://localhost:8080/"
        },
        "cellView": "form",
        "id": "R6Zr-OslJe38",
        "outputId": "e96fda8a-48fc-4f6b-c565-7b739741cb83"
      },
      "execution_count": 2,
      "outputs": [
        {
          "output_type": "stream",
          "name": "stdout",
          "text": [
            "Mounted at /content/drive\n"
          ]
        }
      ]
    },
    {
      "cell_type": "code",
      "source": [
        "#@markdown # Separation\n",
        "#@markdown #### separation config:\n",
        "input_file = '/content/drive/MyDrive/input_file' #@param {type:\"string\"}\n",
        "output_folder = '/content/drive/MyDrive/output' #@param {type:\"string\"}\n",
        "high_quality = True #@param {type:\"boolean\"}\n",
        "#@markdown high quality mode is 3x slower !\n",
        "\n",
        "%cd 'MVSEP-CDX23-Cinematic-Sound-Demixing'\n",
        "\n",
        "high_quality = '--high_quality' if high_quality is True else ''\n",
        "!python inference.py \\\n",
        "        --input_audio {input_file} \\\n",
        "        --output_folder {output_folder} \\\n",
        "        {high_quality}"
      ],
      "metadata": {
        "cellView": "form",
        "id": "J0aub4h2JdFl"
      },
      "execution_count": null,
      "outputs": []
    }
  ]
}
